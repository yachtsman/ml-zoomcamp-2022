{
 "cells": [
  {
   "cell_type": "markdown",
   "id": "03e1b275",
   "metadata": {},
   "source": [
    "## Session #1 Homework\n",
    "\n",
    "### Set up the environment\n",
    "\n",
    "You need to install Python, NumPy, Pandas, Matplotlib and Seaborn. For that, you can the instructions from\n",
    "[06-environment.md](https://github.com/alexeygrigorev/mlbookcamp-code/blob/master/course-zoomcamp/01-intro/06-environment.md)."
   ]
  },
  {
   "cell_type": "code",
   "execution_count": 1,
   "id": "b6067ed1",
   "metadata": {
    "ExecuteTime": {
     "end_time": "2022-09-08T09:43:15.952012Z",
     "start_time": "2022-09-08T09:43:15.443973Z"
    }
   },
   "outputs": [],
   "source": [
    "import pandas as pd\n",
    "import numpy as np"
   ]
  },
  {
   "cell_type": "markdown",
   "id": "45da6b3c",
   "metadata": {},
   "source": [
    "### Question 1\n",
    "\n",
    "What's the version of NumPy that you installed? \n",
    "\n",
    "You can get the version information using the `__version__` field:\n",
    "\n",
    "```python\n",
    "np.__version__\n",
    "```"
   ]
  },
  {
   "cell_type": "code",
   "execution_count": 2,
   "id": "44fd9351",
   "metadata": {
    "ExecuteTime": {
     "end_time": "2022-09-08T09:43:17.085750Z",
     "start_time": "2022-09-08T09:43:17.075307Z"
    }
   },
   "outputs": [
    {
     "data": {
      "text/plain": [
       "'1.23.2'"
      ]
     },
     "execution_count": 2,
     "metadata": {},
     "output_type": "execute_result"
    }
   ],
   "source": [
    "np.__version__"
   ]
  },
  {
   "cell_type": "markdown",
   "id": "184c92c4",
   "metadata": {},
   "source": [
    "### Getting the data \n",
    "\n",
    "For this homework, we'll use the Car price dataset. Download it from \n",
    "[here](https://raw.githubusercontent.com/alexeygrigorev/mlbookcamp-code/master/chapter-02-car-price/data.csv).\n",
    "\n",
    "You can do it with wget:\n",
    "\n",
    "```bash\n",
    "wget https://raw.githubusercontent.com/alexeygrigorev/mlbookcamp-code/master/chapter-02-car-price/data.csv\n",
    "```\n",
    "\n",
    "Or just open it with your browser and click \"Save as...\".\n",
    "\n",
    "Now read it with Pandas."
   ]
  },
  {
   "cell_type": "code",
   "execution_count": 3,
   "id": "10d4a3fe",
   "metadata": {
    "ExecuteTime": {
     "end_time": "2022-09-08T09:43:42.045474Z",
     "start_time": "2022-09-08T09:43:41.341267Z"
    }
   },
   "outputs": [
    {
     "name": "stdout",
     "output_type": "stream",
     "text": [
      "--2022-09-08 12:43:41--  https://raw.githubusercontent.com/alexeygrigorev/mlbookcamp-code/master/chapter-02-car-price/data.csv\n",
      "Resolving raw.githubusercontent.com (raw.githubusercontent.com)... 185.199.110.133, 185.199.108.133, 185.199.111.133, ...\n",
      "Connecting to raw.githubusercontent.com (raw.githubusercontent.com)|185.199.110.133|:443... connected.\n",
      "HTTP request sent, awaiting response... 200 OK\n",
      "Length: 1475504 (1.4M) [text/plain]\n",
      "Saving to: ‘data.csv.1’\n",
      "\n",
      "data.csv.1          100%[===================>]   1.41M  7.80MB/s    in 0.2s    \n",
      "\n",
      "2022-09-08 12:43:41 (7.80 MB/s) - ‘data.csv.1’ saved [1475504/1475504]\n",
      "\n"
     ]
    }
   ],
   "source": [
    "# !wget https://raw.githubusercontent.com/alexeygrigorev/mlbookcamp-code/master/chapter-02-car-price/data.csv"
   ]
  },
  {
   "cell_type": "code",
   "execution_count": 4,
   "id": "46f713ef",
   "metadata": {
    "ExecuteTime": {
     "end_time": "2022-09-08T09:44:36.572695Z",
     "start_time": "2022-09-08T09:44:36.511328Z"
    }
   },
   "outputs": [],
   "source": [
    "df = pd.read_csv('data.csv')"
   ]
  },
  {
   "cell_type": "code",
   "execution_count": 9,
   "id": "f96ee4c1",
   "metadata": {
    "ExecuteTime": {
     "end_time": "2022-09-08T09:46:56.481507Z",
     "start_time": "2022-09-08T09:46:56.467855Z"
    }
   },
   "outputs": [
    {
     "data": {
      "text/html": [
       "<div>\n",
       "<style scoped>\n",
       "    .dataframe tbody tr th:only-of-type {\n",
       "        vertical-align: middle;\n",
       "    }\n",
       "\n",
       "    .dataframe tbody tr th {\n",
       "        vertical-align: top;\n",
       "    }\n",
       "\n",
       "    .dataframe thead th {\n",
       "        text-align: right;\n",
       "    }\n",
       "</style>\n",
       "<table border=\"1\" class=\"dataframe\">\n",
       "  <thead>\n",
       "    <tr style=\"text-align: right;\">\n",
       "      <th></th>\n",
       "      <th>Make</th>\n",
       "      <th>Model</th>\n",
       "      <th>Year</th>\n",
       "      <th>Engine Fuel Type</th>\n",
       "      <th>Engine HP</th>\n",
       "      <th>Engine Cylinders</th>\n",
       "      <th>Transmission Type</th>\n",
       "      <th>Driven_Wheels</th>\n",
       "      <th>Number of Doors</th>\n",
       "      <th>Market Category</th>\n",
       "      <th>Vehicle Size</th>\n",
       "      <th>Vehicle Style</th>\n",
       "      <th>highway MPG</th>\n",
       "      <th>city mpg</th>\n",
       "      <th>Popularity</th>\n",
       "      <th>MSRP</th>\n",
       "    </tr>\n",
       "  </thead>\n",
       "  <tbody>\n",
       "    <tr>\n",
       "      <th>0</th>\n",
       "      <td>BMW</td>\n",
       "      <td>1 Series M</td>\n",
       "      <td>2011</td>\n",
       "      <td>premium unleaded (required)</td>\n",
       "      <td>335.0</td>\n",
       "      <td>6.0</td>\n",
       "      <td>MANUAL</td>\n",
       "      <td>rear wheel drive</td>\n",
       "      <td>2.0</td>\n",
       "      <td>Factory Tuner,Luxury,High-Performance</td>\n",
       "      <td>Compact</td>\n",
       "      <td>Coupe</td>\n",
       "      <td>26</td>\n",
       "      <td>19</td>\n",
       "      <td>3916</td>\n",
       "      <td>46135</td>\n",
       "    </tr>\n",
       "    <tr>\n",
       "      <th>1</th>\n",
       "      <td>BMW</td>\n",
       "      <td>1 Series</td>\n",
       "      <td>2011</td>\n",
       "      <td>premium unleaded (required)</td>\n",
       "      <td>300.0</td>\n",
       "      <td>6.0</td>\n",
       "      <td>MANUAL</td>\n",
       "      <td>rear wheel drive</td>\n",
       "      <td>2.0</td>\n",
       "      <td>Luxury,Performance</td>\n",
       "      <td>Compact</td>\n",
       "      <td>Convertible</td>\n",
       "      <td>28</td>\n",
       "      <td>19</td>\n",
       "      <td>3916</td>\n",
       "      <td>40650</td>\n",
       "    </tr>\n",
       "    <tr>\n",
       "      <th>2</th>\n",
       "      <td>BMW</td>\n",
       "      <td>1 Series</td>\n",
       "      <td>2011</td>\n",
       "      <td>premium unleaded (required)</td>\n",
       "      <td>300.0</td>\n",
       "      <td>6.0</td>\n",
       "      <td>MANUAL</td>\n",
       "      <td>rear wheel drive</td>\n",
       "      <td>2.0</td>\n",
       "      <td>Luxury,High-Performance</td>\n",
       "      <td>Compact</td>\n",
       "      <td>Coupe</td>\n",
       "      <td>28</td>\n",
       "      <td>20</td>\n",
       "      <td>3916</td>\n",
       "      <td>36350</td>\n",
       "    </tr>\n",
       "    <tr>\n",
       "      <th>3</th>\n",
       "      <td>BMW</td>\n",
       "      <td>1 Series</td>\n",
       "      <td>2011</td>\n",
       "      <td>premium unleaded (required)</td>\n",
       "      <td>230.0</td>\n",
       "      <td>6.0</td>\n",
       "      <td>MANUAL</td>\n",
       "      <td>rear wheel drive</td>\n",
       "      <td>2.0</td>\n",
       "      <td>Luxury,Performance</td>\n",
       "      <td>Compact</td>\n",
       "      <td>Coupe</td>\n",
       "      <td>28</td>\n",
       "      <td>18</td>\n",
       "      <td>3916</td>\n",
       "      <td>29450</td>\n",
       "    </tr>\n",
       "    <tr>\n",
       "      <th>4</th>\n",
       "      <td>BMW</td>\n",
       "      <td>1 Series</td>\n",
       "      <td>2011</td>\n",
       "      <td>premium unleaded (required)</td>\n",
       "      <td>230.0</td>\n",
       "      <td>6.0</td>\n",
       "      <td>MANUAL</td>\n",
       "      <td>rear wheel drive</td>\n",
       "      <td>2.0</td>\n",
       "      <td>Luxury</td>\n",
       "      <td>Compact</td>\n",
       "      <td>Convertible</td>\n",
       "      <td>28</td>\n",
       "      <td>18</td>\n",
       "      <td>3916</td>\n",
       "      <td>34500</td>\n",
       "    </tr>\n",
       "  </tbody>\n",
       "</table>\n",
       "</div>"
      ],
      "text/plain": [
       "  Make       Model  Year             Engine Fuel Type  Engine HP  \\\n",
       "0  BMW  1 Series M  2011  premium unleaded (required)      335.0   \n",
       "1  BMW    1 Series  2011  premium unleaded (required)      300.0   \n",
       "2  BMW    1 Series  2011  premium unleaded (required)      300.0   \n",
       "3  BMW    1 Series  2011  premium unleaded (required)      230.0   \n",
       "4  BMW    1 Series  2011  premium unleaded (required)      230.0   \n",
       "\n",
       "   Engine Cylinders Transmission Type     Driven_Wheels  Number of Doors  \\\n",
       "0               6.0            MANUAL  rear wheel drive              2.0   \n",
       "1               6.0            MANUAL  rear wheel drive              2.0   \n",
       "2               6.0            MANUAL  rear wheel drive              2.0   \n",
       "3               6.0            MANUAL  rear wheel drive              2.0   \n",
       "4               6.0            MANUAL  rear wheel drive              2.0   \n",
       "\n",
       "                         Market Category Vehicle Size Vehicle Style  \\\n",
       "0  Factory Tuner,Luxury,High-Performance      Compact         Coupe   \n",
       "1                     Luxury,Performance      Compact   Convertible   \n",
       "2                Luxury,High-Performance      Compact         Coupe   \n",
       "3                     Luxury,Performance      Compact         Coupe   \n",
       "4                                 Luxury      Compact   Convertible   \n",
       "\n",
       "   highway MPG  city mpg  Popularity   MSRP  \n",
       "0           26        19        3916  46135  \n",
       "1           28        19        3916  40650  \n",
       "2           28        20        3916  36350  \n",
       "3           28        18        3916  29450  \n",
       "4           28        18        3916  34500  "
      ]
     },
     "execution_count": 9,
     "metadata": {},
     "output_type": "execute_result"
    }
   ],
   "source": [
    "df.head()"
   ]
  },
  {
   "cell_type": "markdown",
   "id": "210fae4e",
   "metadata": {},
   "source": [
    "### Question 2\n",
    "\n",
    "How many records are in the dataset?\n",
    "\n",
    "Here you need to specify the number of rows.\n",
    "\n",
    "- 16\n",
    "- 6572\n",
    "- 11914 +\n",
    "- 18990"
   ]
  },
  {
   "cell_type": "code",
   "execution_count": 8,
   "id": "7ca737ae",
   "metadata": {
    "ExecuteTime": {
     "end_time": "2022-09-08T09:45:14.955607Z",
     "start_time": "2022-09-08T09:45:14.949227Z"
    }
   },
   "outputs": [
    {
     "data": {
      "text/plain": [
       "(11914, 16)"
      ]
     },
     "execution_count": 8,
     "metadata": {},
     "output_type": "execute_result"
    }
   ],
   "source": [
    "df.shape"
   ]
  },
  {
   "cell_type": "markdown",
   "id": "38e9b120",
   "metadata": {},
   "source": [
    "### Question 3\n",
    "\n",
    "Who are the most popular car manufacturers (top-3) according to the dataset?\n",
    "\n",
    "- Chevrolet, Volkswagen, Toyota\n",
    "- Chevrolet, Ford, Toyota\n",
    "- Ford, Volkswagen, Toyota\n",
    "- Chevrolet, Ford, Volkswagen +"
   ]
  },
  {
   "cell_type": "code",
   "execution_count": 12,
   "id": "553ed3d0",
   "metadata": {
    "ExecuteTime": {
     "end_time": "2022-09-08T09:48:51.333593Z",
     "start_time": "2022-09-08T09:48:51.326166Z"
    }
   },
   "outputs": [
    {
     "data": {
      "text/plain": [
       "Chevrolet     1123\n",
       "Ford           881\n",
       "Volkswagen     809\n",
       "Name: Make, dtype: int64"
      ]
     },
     "execution_count": 12,
     "metadata": {},
     "output_type": "execute_result"
    }
   ],
   "source": [
    "df['Make'].value_counts().head(3)"
   ]
  },
  {
   "cell_type": "markdown",
   "id": "0b042aa5",
   "metadata": {},
   "source": [
    "### Question 4\n",
    "\n",
    "What's the number of unique Audi car models in the dataset?\n",
    "\n",
    "- 3\n",
    "- 16\n",
    "- 26\n",
    "- 34 +"
   ]
  },
  {
   "cell_type": "code",
   "execution_count": 16,
   "id": "92ca68b5",
   "metadata": {
    "ExecuteTime": {
     "end_time": "2022-09-08T09:50:40.323138Z",
     "start_time": "2022-09-08T09:50:40.310084Z"
    }
   },
   "outputs": [
    {
     "data": {
      "text/plain": [
       "Make                   1\n",
       "Model                 34\n",
       "Year                  20\n",
       "Engine Fuel Type       5\n",
       "Engine HP             40\n",
       "Engine Cylinders       6\n",
       "Transmission Type      3\n",
       "Driven_Wheels          2\n",
       "Number of Doors        2\n",
       "Market Category       15\n",
       "Vehicle Size           3\n",
       "Vehicle Style          6\n",
       "highway MPG           23\n",
       "city mpg              18\n",
       "Popularity             1\n",
       "MSRP                 234\n",
       "dtype: int64"
      ]
     },
     "execution_count": 16,
     "metadata": {},
     "output_type": "execute_result"
    }
   ],
   "source": [
    "df[df['Make'] == 'Audi'].nunique()"
   ]
  },
  {
   "cell_type": "markdown",
   "id": "19091564",
   "metadata": {},
   "source": [
    "### Question 5\n",
    "\n",
    "How many columns in the dataset have missing values?\n",
    "\n",
    "- 5 +\n",
    "- 6\n",
    "- 7\n",
    "- 8"
   ]
  },
  {
   "cell_type": "code",
   "execution_count": 22,
   "id": "b78e2aef",
   "metadata": {
    "ExecuteTime": {
     "end_time": "2022-09-08T09:55:28.282394Z",
     "start_time": "2022-09-08T09:55:28.253509Z"
    }
   },
   "outputs": [
    {
     "data": {
      "text/plain": [
       "5"
      ]
     },
     "execution_count": 22,
     "metadata": {},
     "output_type": "execute_result"
    }
   ],
   "source": [
    "df.isna().sum()[df.isna().sum()>0].count()"
   ]
  },
  {
   "cell_type": "markdown",
   "id": "94cf6d76",
   "metadata": {},
   "source": [
    "### Question 6\n",
    "\n",
    "* Find the median value of \"Engine Cylinders\" column in the dataset.\n",
    "* Next, calculate the most frequent value of the same \"Engine Cylinders\".\n",
    "* Use the `fillna` method to fill the missing values in \"Engine Cylinders\" with the most frequent value from the previous step.\n",
    "* Now, calculate the median value of \"Engine Cylinders\" once again.\n",
    "\n",
    "Has it changed?\n",
    "\n",
    "> Hint: refer to existing `mode` and `median` functions to complete the task.\n",
    "\n",
    "- Yes\n",
    "- No +"
   ]
  },
  {
   "cell_type": "code",
   "execution_count": 23,
   "id": "bcd0ed81",
   "metadata": {
    "ExecuteTime": {
     "end_time": "2022-09-08T09:57:20.978073Z",
     "start_time": "2022-09-08T09:57:20.970204Z"
    }
   },
   "outputs": [
    {
     "data": {
      "text/plain": [
       "6.0"
      ]
     },
     "execution_count": 23,
     "metadata": {},
     "output_type": "execute_result"
    }
   ],
   "source": [
    "df['Engine Cylinders'].median()"
   ]
  },
  {
   "cell_type": "code",
   "execution_count": 33,
   "id": "be64de60",
   "metadata": {
    "ExecuteTime": {
     "end_time": "2022-09-08T10:04:56.711628Z",
     "start_time": "2022-09-08T10:04:56.705500Z"
    }
   },
   "outputs": [
    {
     "data": {
      "text/plain": [
       "4.0"
      ]
     },
     "execution_count": 33,
     "metadata": {},
     "output_type": "execute_result"
    }
   ],
   "source": [
    "df_mode = df['Engine Cylinders'].mode()[0]\n",
    "df_mode"
   ]
  },
  {
   "cell_type": "code",
   "execution_count": 34,
   "id": "a553cd44",
   "metadata": {
    "ExecuteTime": {
     "end_time": "2022-09-08T10:05:37.414973Z",
     "start_time": "2022-09-08T10:05:37.409323Z"
    }
   },
   "outputs": [],
   "source": [
    "df['Engine Cylinders'].fillna(df_mode, inplace=True)"
   ]
  },
  {
   "cell_type": "code",
   "execution_count": 35,
   "id": "e2d1adde",
   "metadata": {
    "ExecuteTime": {
     "end_time": "2022-09-08T10:05:38.135473Z",
     "start_time": "2022-09-08T10:05:38.128913Z"
    }
   },
   "outputs": [
    {
     "data": {
      "text/plain": [
       "6.0"
      ]
     },
     "execution_count": 35,
     "metadata": {},
     "output_type": "execute_result"
    }
   ],
   "source": [
    "df['Engine Cylinders'].median()"
   ]
  },
  {
   "cell_type": "markdown",
   "id": "6b24518d",
   "metadata": {},
   "source": [
    "### Question 7\n",
    "\n",
    "* Select all the \"Lotus\" cars from the dataset.\n",
    "* Select only columns \"Engine HP\", \"Engine Cylinders\".\n",
    "* Now drop all duplicated rows using `drop_duplicates` method (you should get a dataframe with 9 rows).\n",
    "* Get the underlying NumPy array. Let's call it `X`.\n",
    "* Compute matrix-matrix multiplication between the transpose of `X` and `X`. To get the transpose, use `X.T`. Let's call the result `XTX`.\n",
    "* Invert `XTX`.\n",
    "* Create an array `y` with values `[1100, 800, 750, 850, 1300, 1000, 1000, 1300, 800]`.\n",
    "* Multiply the inverse of `XTX` with the transpose of `X`, and then multiply the result by `y`. Call the result `w`.\n",
    "* What's the value of the first element of `w`?\n",
    "\n",
    "> **Note**: You just implemented linear regression. We'll talk about it in the next lesson.\n",
    "\n",
    "- -0.0723\n",
    "- 4.5949 +\n",
    "- 31.6537\n",
    "- 63.5643"
   ]
  },
  {
   "cell_type": "code",
   "execution_count": 47,
   "id": "449ca97a",
   "metadata": {
    "ExecuteTime": {
     "end_time": "2022-09-08T10:52:59.184702Z",
     "start_time": "2022-09-08T10:52:59.175289Z"
    }
   },
   "outputs": [
    {
     "data": {
      "text/plain": [
       "array([[189.,   4.],\n",
       "       [218.,   4.],\n",
       "       [217.,   4.],\n",
       "       [350.,   8.],\n",
       "       [400.,   6.],\n",
       "       [276.,   6.],\n",
       "       [345.,   6.],\n",
       "       [257.,   4.],\n",
       "       [240.,   4.]])"
      ]
     },
     "execution_count": 47,
     "metadata": {},
     "output_type": "execute_result"
    }
   ],
   "source": [
    "X = df[df['Make'] == 'Lotus'][['Engine HP', 'Engine Cylinders']].drop_duplicates().values\n",
    "X"
   ]
  },
  {
   "cell_type": "code",
   "execution_count": 52,
   "id": "72536992",
   "metadata": {
    "ExecuteTime": {
     "end_time": "2022-09-08T11:29:37.429370Z",
     "start_time": "2022-09-08T11:29:37.423942Z"
    }
   },
   "outputs": [
    {
     "data": {
      "text/plain": [
       "array([[7.31684e+05, 1.34100e+04],\n",
       "       [1.34100e+04, 2.52000e+02]])"
      ]
     },
     "execution_count": 52,
     "metadata": {},
     "output_type": "execute_result"
    }
   ],
   "source": [
    "XTX = np.dot(X.T, X)\n",
    "XTX"
   ]
  },
  {
   "cell_type": "code",
   "execution_count": 60,
   "id": "1c0edeac",
   "metadata": {
    "ExecuteTime": {
     "end_time": "2022-09-08T11:33:15.878843Z",
     "start_time": "2022-09-08T11:33:15.874496Z"
    }
   },
   "outputs": [
    {
     "data": {
      "text/plain": [
       "array([[ 5.53084235e-05, -2.94319825e-03],\n",
       "       [-2.94319825e-03,  1.60588447e-01]])"
      ]
     },
     "execution_count": 60,
     "metadata": {},
     "output_type": "execute_result"
    }
   ],
   "source": [
    "XTX_inv = np.linalg.inv(XTX)\n",
    "XTX_inv"
   ]
  },
  {
   "cell_type": "code",
   "execution_count": 59,
   "id": "81d69b56",
   "metadata": {
    "ExecuteTime": {
     "end_time": "2022-09-08T11:32:45.105906Z",
     "start_time": "2022-09-08T11:32:45.098353Z"
    }
   },
   "outputs": [
    {
     "data": {
      "text/plain": [
       "[1100, 800, 750, 850, 1300, 1000, 1000, 1300, 800]"
      ]
     },
     "execution_count": 59,
     "metadata": {},
     "output_type": "execute_result"
    }
   ],
   "source": [
    "y = [1100, 800, 750, 850, 1300, 1000, 1000, 1300, 800]\n",
    "y"
   ]
  },
  {
   "cell_type": "code",
   "execution_count": 64,
   "id": "dd269f10",
   "metadata": {
    "ExecuteTime": {
     "end_time": "2022-09-08T11:35:12.950176Z",
     "start_time": "2022-09-08T11:35:12.945268Z"
    }
   },
   "outputs": [
    {
     "data": {
      "text/plain": [
       "4.594944810094551"
      ]
     },
     "execution_count": 64,
     "metadata": {},
     "output_type": "execute_result"
    }
   ],
   "source": [
    "w = XTX_inv.dot(X.T).dot(y)\n",
    "w[0]"
   ]
  },
  {
   "cell_type": "markdown",
   "id": "336ef6f8",
   "metadata": {},
   "source": [
    "## Submit the results\n",
    "\n",
    "Submit your results here: https://forms.gle/vLp3mvtnrjJxCZx66\n",
    "\n",
    "If your answer doesn't match options exactly, select the closest one."
   ]
  },
  {
   "cell_type": "markdown",
   "id": "dcab2a1b",
   "metadata": {},
   "source": [
    "## Deadline\n",
    "\n",
    "The deadline for submitting is 12 September 2022 (Monday), 23:00 CEST (Berlin time).\n",
    "\n",
    "After that, the form will be closed."
   ]
  },
  {
   "cell_type": "code",
   "execution_count": null,
   "id": "cc0ae3d9",
   "metadata": {},
   "outputs": [],
   "source": []
  }
 ],
 "metadata": {
  "kernelspec": {
   "display_name": "Python 3 (ipykernel)",
   "language": "python",
   "name": "python3"
  },
  "language_info": {
   "codemirror_mode": {
    "name": "ipython",
    "version": 3
   },
   "file_extension": ".py",
   "mimetype": "text/x-python",
   "name": "python",
   "nbconvert_exporter": "python",
   "pygments_lexer": "ipython3",
   "version": "3.9.13"
  },
  "toc": {
   "base_numbering": 1,
   "nav_menu": {},
   "number_sections": true,
   "sideBar": true,
   "skip_h1_title": false,
   "title_cell": "Table of Contents",
   "title_sidebar": "Contents",
   "toc_cell": false,
   "toc_position": {},
   "toc_section_display": true,
   "toc_window_display": false
  },
  "varInspector": {
   "cols": {
    "lenName": 16,
    "lenType": 16,
    "lenVar": 40
   },
   "kernels_config": {
    "python": {
     "delete_cmd_postfix": "",
     "delete_cmd_prefix": "del ",
     "library": "var_list.py",
     "varRefreshCmd": "print(var_dic_list())"
    },
    "r": {
     "delete_cmd_postfix": ") ",
     "delete_cmd_prefix": "rm(",
     "library": "var_list.r",
     "varRefreshCmd": "cat(var_dic_list()) "
    }
   },
   "types_to_exclude": [
    "module",
    "function",
    "builtin_function_or_method",
    "instance",
    "_Feature"
   ],
   "window_display": false
  }
 },
 "nbformat": 4,
 "nbformat_minor": 5
}

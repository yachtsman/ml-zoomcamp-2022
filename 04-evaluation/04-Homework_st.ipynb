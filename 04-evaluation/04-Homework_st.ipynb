{
 "cells": [
  {
   "cell_type": "code",
   "execution_count": 26,
   "id": "c2de0a6c",
   "metadata": {
    "ExecuteTime": {
     "end_time": "2022-10-01T13:09:57.993972Z",
     "start_time": "2022-10-01T13:09:57.977170Z"
    }
   },
   "outputs": [
    {
     "data": {
      "application/javascript": [
       "IPython.notebook.set_autosave_interval(0)"
      ]
     },
     "metadata": {},
     "output_type": "display_data"
    },
    {
     "name": "stdout",
     "output_type": "stream",
     "text": [
      "Autosave disabled\n"
     ]
    }
   ],
   "source": [
    "%autosave 0"
   ]
  },
  {
   "cell_type": "markdown",
   "id": "c74c93cf",
   "metadata": {},
   "source": [
    "## Homework\n",
    "Tarasenko Sergii\n",
    "\n",
    "> Note: sometimes your answer doesn't match one of the options exactly. That's fine. \n",
    "Select the option that's closest to your solution."
   ]
  },
  {
   "cell_type": "markdown",
   "id": "36e62448",
   "metadata": {},
   "source": [
    "## Dataset\n",
    "\n",
    "In this homework, we will use Credit Card Data from book \"Econometric Analysis\".\n",
    "\n",
    "Here's a wget-able [link](https://raw.githubusercontent.com/alexeygrigorev/datasets/master/AER_credit_card_data.csv):\n",
    "\n",
    "```bash\n",
    "wget https://raw.githubusercontent.com/alexeygrigorev/datasets/master/AER_credit_card_data.csv\n",
    "```\n",
    "The goal of this homework is to inspect the output of different evaluation metrics by creating a classification model (target column `card`). "
   ]
  },
  {
   "cell_type": "code",
   "execution_count": 1,
   "id": "42861c2c",
   "metadata": {
    "ExecuteTime": {
     "end_time": "2022-10-01T13:03:56.388928Z",
     "start_time": "2022-10-01T13:03:54.820633Z"
    }
   },
   "outputs": [],
   "source": [
    "import pandas as pd\n",
    "import numpy as np\n",
    "import seaborn as sns\n",
    "import matplotlib.pyplot as plt\n",
    "# plt.style.use('dark_background')\n",
    "sns.set_theme(style=\"whitegrid\")\n",
    "\n",
    "from sklearn.model_selection import train_test_split, KFold\n",
    "from sklearn.feature_extraction import DictVectorizer\n",
    "from sklearn.linear_model import LogisticRegression\n",
    "from sklearn.metrics import roc_auc_score, recall_score, precision_score, auc, roc_curve\n",
    "from tqdm.auto import tqdm"
   ]
  },
  {
   "cell_type": "code",
   "execution_count": 2,
   "id": "c3a0f5ef",
   "metadata": {
    "ExecuteTime": {
     "end_time": "2022-10-01T13:03:56.403990Z",
     "start_time": "2022-10-01T13:03:56.388928Z"
    }
   },
   "outputs": [],
   "source": [
    "# !wget https://raw.githubusercontent.com/alexeygrigorev/datasets/master/AER_credit_card_data.csv"
   ]
  },
  {
   "cell_type": "code",
   "execution_count": 3,
   "id": "94dbf4e5",
   "metadata": {
    "ExecuteTime": {
     "end_time": "2022-10-01T13:03:56.434870Z",
     "start_time": "2022-10-01T13:03:56.403990Z"
    }
   },
   "outputs": [
    {
     "data": {
      "text/html": [
       "<div>\n",
       "<style scoped>\n",
       "    .dataframe tbody tr th:only-of-type {\n",
       "        vertical-align: middle;\n",
       "    }\n",
       "\n",
       "    .dataframe tbody tr th {\n",
       "        vertical-align: top;\n",
       "    }\n",
       "\n",
       "    .dataframe thead th {\n",
       "        text-align: right;\n",
       "    }\n",
       "</style>\n",
       "<table border=\"1\" class=\"dataframe\">\n",
       "  <thead>\n",
       "    <tr style=\"text-align: right;\">\n",
       "      <th></th>\n",
       "      <th>card</th>\n",
       "      <th>reports</th>\n",
       "      <th>age</th>\n",
       "      <th>income</th>\n",
       "      <th>share</th>\n",
       "      <th>expenditure</th>\n",
       "      <th>owner</th>\n",
       "      <th>selfemp</th>\n",
       "      <th>dependents</th>\n",
       "      <th>months</th>\n",
       "      <th>majorcards</th>\n",
       "      <th>active</th>\n",
       "    </tr>\n",
       "  </thead>\n",
       "  <tbody>\n",
       "    <tr>\n",
       "      <th>0</th>\n",
       "      <td>yes</td>\n",
       "      <td>0</td>\n",
       "      <td>37.66667</td>\n",
       "      <td>4.5200</td>\n",
       "      <td>0.033270</td>\n",
       "      <td>124.983300</td>\n",
       "      <td>yes</td>\n",
       "      <td>no</td>\n",
       "      <td>3</td>\n",
       "      <td>54</td>\n",
       "      <td>1</td>\n",
       "      <td>12</td>\n",
       "    </tr>\n",
       "    <tr>\n",
       "      <th>1</th>\n",
       "      <td>yes</td>\n",
       "      <td>0</td>\n",
       "      <td>33.25000</td>\n",
       "      <td>2.4200</td>\n",
       "      <td>0.005217</td>\n",
       "      <td>9.854167</td>\n",
       "      <td>no</td>\n",
       "      <td>no</td>\n",
       "      <td>3</td>\n",
       "      <td>34</td>\n",
       "      <td>1</td>\n",
       "      <td>13</td>\n",
       "    </tr>\n",
       "    <tr>\n",
       "      <th>2</th>\n",
       "      <td>yes</td>\n",
       "      <td>0</td>\n",
       "      <td>33.66667</td>\n",
       "      <td>4.5000</td>\n",
       "      <td>0.004156</td>\n",
       "      <td>15.000000</td>\n",
       "      <td>yes</td>\n",
       "      <td>no</td>\n",
       "      <td>4</td>\n",
       "      <td>58</td>\n",
       "      <td>1</td>\n",
       "      <td>5</td>\n",
       "    </tr>\n",
       "    <tr>\n",
       "      <th>3</th>\n",
       "      <td>yes</td>\n",
       "      <td>0</td>\n",
       "      <td>30.50000</td>\n",
       "      <td>2.5400</td>\n",
       "      <td>0.065214</td>\n",
       "      <td>137.869200</td>\n",
       "      <td>no</td>\n",
       "      <td>no</td>\n",
       "      <td>0</td>\n",
       "      <td>25</td>\n",
       "      <td>1</td>\n",
       "      <td>7</td>\n",
       "    </tr>\n",
       "    <tr>\n",
       "      <th>4</th>\n",
       "      <td>yes</td>\n",
       "      <td>0</td>\n",
       "      <td>32.16667</td>\n",
       "      <td>9.7867</td>\n",
       "      <td>0.067051</td>\n",
       "      <td>546.503300</td>\n",
       "      <td>yes</td>\n",
       "      <td>no</td>\n",
       "      <td>2</td>\n",
       "      <td>64</td>\n",
       "      <td>1</td>\n",
       "      <td>5</td>\n",
       "    </tr>\n",
       "    <tr>\n",
       "      <th>...</th>\n",
       "      <td>...</td>\n",
       "      <td>...</td>\n",
       "      <td>...</td>\n",
       "      <td>...</td>\n",
       "      <td>...</td>\n",
       "      <td>...</td>\n",
       "      <td>...</td>\n",
       "      <td>...</td>\n",
       "      <td>...</td>\n",
       "      <td>...</td>\n",
       "      <td>...</td>\n",
       "      <td>...</td>\n",
       "    </tr>\n",
       "    <tr>\n",
       "      <th>1314</th>\n",
       "      <td>yes</td>\n",
       "      <td>0</td>\n",
       "      <td>33.58333</td>\n",
       "      <td>4.5660</td>\n",
       "      <td>0.002146</td>\n",
       "      <td>7.333333</td>\n",
       "      <td>yes</td>\n",
       "      <td>no</td>\n",
       "      <td>0</td>\n",
       "      <td>94</td>\n",
       "      <td>1</td>\n",
       "      <td>19</td>\n",
       "    </tr>\n",
       "    <tr>\n",
       "      <th>1315</th>\n",
       "      <td>no</td>\n",
       "      <td>5</td>\n",
       "      <td>23.91667</td>\n",
       "      <td>3.1920</td>\n",
       "      <td>0.000376</td>\n",
       "      <td>0.000000</td>\n",
       "      <td>no</td>\n",
       "      <td>no</td>\n",
       "      <td>3</td>\n",
       "      <td>12</td>\n",
       "      <td>1</td>\n",
       "      <td>5</td>\n",
       "    </tr>\n",
       "    <tr>\n",
       "      <th>1316</th>\n",
       "      <td>yes</td>\n",
       "      <td>0</td>\n",
       "      <td>40.58333</td>\n",
       "      <td>4.6000</td>\n",
       "      <td>0.026513</td>\n",
       "      <td>101.298300</td>\n",
       "      <td>yes</td>\n",
       "      <td>no</td>\n",
       "      <td>2</td>\n",
       "      <td>1</td>\n",
       "      <td>1</td>\n",
       "      <td>2</td>\n",
       "    </tr>\n",
       "    <tr>\n",
       "      <th>1317</th>\n",
       "      <td>yes</td>\n",
       "      <td>0</td>\n",
       "      <td>32.83333</td>\n",
       "      <td>3.7000</td>\n",
       "      <td>0.008999</td>\n",
       "      <td>26.996670</td>\n",
       "      <td>no</td>\n",
       "      <td>yes</td>\n",
       "      <td>0</td>\n",
       "      <td>60</td>\n",
       "      <td>1</td>\n",
       "      <td>7</td>\n",
       "    </tr>\n",
       "    <tr>\n",
       "      <th>1318</th>\n",
       "      <td>yes</td>\n",
       "      <td>0</td>\n",
       "      <td>48.25000</td>\n",
       "      <td>3.7000</td>\n",
       "      <td>0.111619</td>\n",
       "      <td>344.157500</td>\n",
       "      <td>yes</td>\n",
       "      <td>no</td>\n",
       "      <td>2</td>\n",
       "      <td>2</td>\n",
       "      <td>1</td>\n",
       "      <td>0</td>\n",
       "    </tr>\n",
       "  </tbody>\n",
       "</table>\n",
       "<p>1319 rows × 12 columns</p>\n",
       "</div>"
      ],
      "text/plain": [
       "     card  reports       age  income     share  expenditure owner selfemp  \\\n",
       "0     yes        0  37.66667  4.5200  0.033270   124.983300   yes      no   \n",
       "1     yes        0  33.25000  2.4200  0.005217     9.854167    no      no   \n",
       "2     yes        0  33.66667  4.5000  0.004156    15.000000   yes      no   \n",
       "3     yes        0  30.50000  2.5400  0.065214   137.869200    no      no   \n",
       "4     yes        0  32.16667  9.7867  0.067051   546.503300   yes      no   \n",
       "...   ...      ...       ...     ...       ...          ...   ...     ...   \n",
       "1314  yes        0  33.58333  4.5660  0.002146     7.333333   yes      no   \n",
       "1315   no        5  23.91667  3.1920  0.000376     0.000000    no      no   \n",
       "1316  yes        0  40.58333  4.6000  0.026513   101.298300   yes      no   \n",
       "1317  yes        0  32.83333  3.7000  0.008999    26.996670    no     yes   \n",
       "1318  yes        0  48.25000  3.7000  0.111619   344.157500   yes      no   \n",
       "\n",
       "      dependents  months  majorcards  active  \n",
       "0              3      54           1      12  \n",
       "1              3      34           1      13  \n",
       "2              4      58           1       5  \n",
       "3              0      25           1       7  \n",
       "4              2      64           1       5  \n",
       "...          ...     ...         ...     ...  \n",
       "1314           0      94           1      19  \n",
       "1315           3      12           1       5  \n",
       "1316           2       1           1       2  \n",
       "1317           0      60           1       7  \n",
       "1318           2       2           1       0  \n",
       "\n",
       "[1319 rows x 12 columns]"
      ]
     },
     "execution_count": 3,
     "metadata": {},
     "output_type": "execute_result"
    }
   ],
   "source": [
    "df = pd.read_csv('AER_credit_card_data.csv')\n",
    "df"
   ]
  },
  {
   "cell_type": "markdown",
   "id": "4f094050",
   "metadata": {},
   "source": [
    "## Preparation\n",
    "\n",
    "* Create the target variable by mapping `yes` to 1 and `no` to 0. \n",
    "* Split the dataset into 3 parts: train/validation/test with 60%/20%/20% distribution. Use `train_test_split` funciton for that with `random_state=1`."
   ]
  },
  {
   "cell_type": "code",
   "execution_count": 4,
   "id": "61177d8e",
   "metadata": {
    "ExecuteTime": {
     "end_time": "2022-10-01T13:03:56.446431Z",
     "start_time": "2022-10-01T13:03:56.436838Z"
    }
   },
   "outputs": [],
   "source": [
    "df['card'] = (df['card'] == 'yes').astype(int)"
   ]
  },
  {
   "cell_type": "code",
   "execution_count": 5,
   "id": "e04053a3",
   "metadata": {
    "ExecuteTime": {
     "end_time": "2022-10-01T13:03:56.485308Z",
     "start_time": "2022-10-01T13:03:56.446431Z"
    }
   },
   "outputs": [
    {
     "data": {
      "text/html": [
       "<div>\n",
       "<style scoped>\n",
       "    .dataframe tbody tr th:only-of-type {\n",
       "        vertical-align: middle;\n",
       "    }\n",
       "\n",
       "    .dataframe tbody tr th {\n",
       "        vertical-align: top;\n",
       "    }\n",
       "\n",
       "    .dataframe thead th {\n",
       "        text-align: right;\n",
       "    }\n",
       "</style>\n",
       "<table border=\"1\" class=\"dataframe\">\n",
       "  <thead>\n",
       "    <tr style=\"text-align: right;\">\n",
       "      <th></th>\n",
       "      <th>count</th>\n",
       "      <th>unique</th>\n",
       "      <th>top</th>\n",
       "      <th>freq</th>\n",
       "      <th>mean</th>\n",
       "      <th>std</th>\n",
       "      <th>min</th>\n",
       "      <th>25%</th>\n",
       "      <th>50%</th>\n",
       "      <th>75%</th>\n",
       "      <th>max</th>\n",
       "    </tr>\n",
       "  </thead>\n",
       "  <tbody>\n",
       "    <tr>\n",
       "      <th>card</th>\n",
       "      <td>1319.0</td>\n",
       "      <td>NaN</td>\n",
       "      <td>NaN</td>\n",
       "      <td>NaN</td>\n",
       "      <td>0.78</td>\n",
       "      <td>0.42</td>\n",
       "      <td>0.0</td>\n",
       "      <td>1.0</td>\n",
       "      <td>1.0</td>\n",
       "      <td>1.0</td>\n",
       "      <td>1.0</td>\n",
       "    </tr>\n",
       "    <tr>\n",
       "      <th>reports</th>\n",
       "      <td>1319.0</td>\n",
       "      <td>NaN</td>\n",
       "      <td>NaN</td>\n",
       "      <td>NaN</td>\n",
       "      <td>0.46</td>\n",
       "      <td>1.35</td>\n",
       "      <td>0.0</td>\n",
       "      <td>0.0</td>\n",
       "      <td>0.0</td>\n",
       "      <td>0.0</td>\n",
       "      <td>14.0</td>\n",
       "    </tr>\n",
       "    <tr>\n",
       "      <th>age</th>\n",
       "      <td>1319.0</td>\n",
       "      <td>NaN</td>\n",
       "      <td>NaN</td>\n",
       "      <td>NaN</td>\n",
       "      <td>33.21</td>\n",
       "      <td>10.14</td>\n",
       "      <td>0.17</td>\n",
       "      <td>25.42</td>\n",
       "      <td>31.25</td>\n",
       "      <td>39.42</td>\n",
       "      <td>83.5</td>\n",
       "    </tr>\n",
       "    <tr>\n",
       "      <th>income</th>\n",
       "      <td>1319.0</td>\n",
       "      <td>NaN</td>\n",
       "      <td>NaN</td>\n",
       "      <td>NaN</td>\n",
       "      <td>3.37</td>\n",
       "      <td>1.69</td>\n",
       "      <td>0.21</td>\n",
       "      <td>2.24</td>\n",
       "      <td>2.9</td>\n",
       "      <td>4.0</td>\n",
       "      <td>13.5</td>\n",
       "    </tr>\n",
       "    <tr>\n",
       "      <th>share</th>\n",
       "      <td>1319.0</td>\n",
       "      <td>NaN</td>\n",
       "      <td>NaN</td>\n",
       "      <td>NaN</td>\n",
       "      <td>0.07</td>\n",
       "      <td>0.09</td>\n",
       "      <td>0.0</td>\n",
       "      <td>0.0</td>\n",
       "      <td>0.04</td>\n",
       "      <td>0.09</td>\n",
       "      <td>0.91</td>\n",
       "    </tr>\n",
       "    <tr>\n",
       "      <th>expenditure</th>\n",
       "      <td>1319.0</td>\n",
       "      <td>NaN</td>\n",
       "      <td>NaN</td>\n",
       "      <td>NaN</td>\n",
       "      <td>185.06</td>\n",
       "      <td>272.22</td>\n",
       "      <td>0.0</td>\n",
       "      <td>4.58</td>\n",
       "      <td>101.3</td>\n",
       "      <td>249.04</td>\n",
       "      <td>3099.5</td>\n",
       "    </tr>\n",
       "    <tr>\n",
       "      <th>owner</th>\n",
       "      <td>1319</td>\n",
       "      <td>2</td>\n",
       "      <td>no</td>\n",
       "      <td>738</td>\n",
       "      <td>NaN</td>\n",
       "      <td>NaN</td>\n",
       "      <td>NaN</td>\n",
       "      <td>NaN</td>\n",
       "      <td>NaN</td>\n",
       "      <td>NaN</td>\n",
       "      <td>NaN</td>\n",
       "    </tr>\n",
       "    <tr>\n",
       "      <th>selfemp</th>\n",
       "      <td>1319</td>\n",
       "      <td>2</td>\n",
       "      <td>no</td>\n",
       "      <td>1228</td>\n",
       "      <td>NaN</td>\n",
       "      <td>NaN</td>\n",
       "      <td>NaN</td>\n",
       "      <td>NaN</td>\n",
       "      <td>NaN</td>\n",
       "      <td>NaN</td>\n",
       "      <td>NaN</td>\n",
       "    </tr>\n",
       "    <tr>\n",
       "      <th>dependents</th>\n",
       "      <td>1319.0</td>\n",
       "      <td>NaN</td>\n",
       "      <td>NaN</td>\n",
       "      <td>NaN</td>\n",
       "      <td>0.99</td>\n",
       "      <td>1.25</td>\n",
       "      <td>0.0</td>\n",
       "      <td>0.0</td>\n",
       "      <td>1.0</td>\n",
       "      <td>2.0</td>\n",
       "      <td>6.0</td>\n",
       "    </tr>\n",
       "    <tr>\n",
       "      <th>months</th>\n",
       "      <td>1319.0</td>\n",
       "      <td>NaN</td>\n",
       "      <td>NaN</td>\n",
       "      <td>NaN</td>\n",
       "      <td>55.27</td>\n",
       "      <td>66.27</td>\n",
       "      <td>0.0</td>\n",
       "      <td>12.0</td>\n",
       "      <td>30.0</td>\n",
       "      <td>72.0</td>\n",
       "      <td>540.0</td>\n",
       "    </tr>\n",
       "    <tr>\n",
       "      <th>majorcards</th>\n",
       "      <td>1319.0</td>\n",
       "      <td>NaN</td>\n",
       "      <td>NaN</td>\n",
       "      <td>NaN</td>\n",
       "      <td>0.82</td>\n",
       "      <td>0.39</td>\n",
       "      <td>0.0</td>\n",
       "      <td>1.0</td>\n",
       "      <td>1.0</td>\n",
       "      <td>1.0</td>\n",
       "      <td>1.0</td>\n",
       "    </tr>\n",
       "    <tr>\n",
       "      <th>active</th>\n",
       "      <td>1319.0</td>\n",
       "      <td>NaN</td>\n",
       "      <td>NaN</td>\n",
       "      <td>NaN</td>\n",
       "      <td>7.0</td>\n",
       "      <td>6.31</td>\n",
       "      <td>0.0</td>\n",
       "      <td>2.0</td>\n",
       "      <td>6.0</td>\n",
       "      <td>11.0</td>\n",
       "      <td>46.0</td>\n",
       "    </tr>\n",
       "  </tbody>\n",
       "</table>\n",
       "</div>"
      ],
      "text/plain": [
       "              count unique  top  freq    mean     std   min    25%    50%  \\\n",
       "card         1319.0    NaN  NaN   NaN    0.78    0.42   0.0    1.0    1.0   \n",
       "reports      1319.0    NaN  NaN   NaN    0.46    1.35   0.0    0.0    0.0   \n",
       "age          1319.0    NaN  NaN   NaN   33.21   10.14  0.17  25.42  31.25   \n",
       "income       1319.0    NaN  NaN   NaN    3.37    1.69  0.21   2.24    2.9   \n",
       "share        1319.0    NaN  NaN   NaN    0.07    0.09   0.0    0.0   0.04   \n",
       "expenditure  1319.0    NaN  NaN   NaN  185.06  272.22   0.0   4.58  101.3   \n",
       "owner          1319      2   no   738     NaN     NaN   NaN    NaN    NaN   \n",
       "selfemp        1319      2   no  1228     NaN     NaN   NaN    NaN    NaN   \n",
       "dependents   1319.0    NaN  NaN   NaN    0.99    1.25   0.0    0.0    1.0   \n",
       "months       1319.0    NaN  NaN   NaN   55.27   66.27   0.0   12.0   30.0   \n",
       "majorcards   1319.0    NaN  NaN   NaN    0.82    0.39   0.0    1.0    1.0   \n",
       "active       1319.0    NaN  NaN   NaN     7.0    6.31   0.0    2.0    6.0   \n",
       "\n",
       "                75%     max  \n",
       "card            1.0     1.0  \n",
       "reports         0.0    14.0  \n",
       "age           39.42    83.5  \n",
       "income          4.0    13.5  \n",
       "share          0.09    0.91  \n",
       "expenditure  249.04  3099.5  \n",
       "owner           NaN     NaN  \n",
       "selfemp         NaN     NaN  \n",
       "dependents      2.0     6.0  \n",
       "months         72.0   540.0  \n",
       "majorcards      1.0     1.0  \n",
       "active         11.0    46.0  "
      ]
     },
     "execution_count": 5,
     "metadata": {},
     "output_type": "execute_result"
    }
   ],
   "source": [
    "df.describe(include='all').round(2).T"
   ]
  },
  {
   "cell_type": "code",
   "execution_count": 6,
   "id": "e42852c3",
   "metadata": {
    "ExecuteTime": {
     "end_time": "2022-10-01T13:03:56.508938Z",
     "start_time": "2022-10-01T13:03:56.486275Z"
    }
   },
   "outputs": [],
   "source": [
    "df_train_full, df_test = train_test_split(df, test_size=0.2, random_state=1)\n",
    "df_train, df_val = train_test_split(df_train_full, test_size=0.25, random_state=1)\n",
    "\n",
    "df_train = df_train.reset_index(drop=True)\n",
    "df_val = df_val.reset_index(drop=True)\n",
    "df_test = df_test.reset_index(drop=True)\n",
    "\n",
    "y_train = df_train.card.values\n",
    "y_val = df_val.card.values\n",
    "y_test = df_test.card.values\n",
    "\n",
    "del df_train['card']\n",
    "del df_val['card']\n",
    "del df_test['card']"
   ]
  },
  {
   "cell_type": "code",
   "execution_count": 7,
   "id": "8eaa4a40",
   "metadata": {
    "ExecuteTime": {
     "end_time": "2022-10-01T13:03:56.526649Z",
     "start_time": "2022-10-01T13:03:56.509940Z"
    }
   },
   "outputs": [
    {
     "data": {
      "text/plain": [
       "((791, 11), (264, 11), (264, 11))"
      ]
     },
     "execution_count": 7,
     "metadata": {},
     "output_type": "execute_result"
    }
   ],
   "source": [
    "df_train.shape, df_val.shape, df_test.shape"
   ]
  },
  {
   "cell_type": "markdown",
   "id": "435d8972",
   "metadata": {},
   "source": [
    "## Question 1\n",
    "\n",
    "ROC AUC could also be used to evaluate feature importance of numerical variables. \n",
    "\n",
    "Let's do that\n",
    "\n",
    "* For each numerical variable, use it as score and compute AUC with the `card` variable.\n",
    "* Use the training dataset for that.\n",
    "\n",
    "If your AUC is < 0.5, invert this variable by putting \"-\" in front\n",
    "\n",
    "(e.g. `-df_train['expenditure']`)\n",
    "\n",
    "AUC can go below 0.5 if the variable is negatively correlated with the target varialble. You can change the direction of the correlation by negating this variable - then negative correlation becomes positive.\n",
    "\n",
    "Which numerical variable (among the following 4) has the highest AUC?\n",
    "\n",
    "- `reports`\n",
    "- `dependents`\n",
    "- `active`\n",
    "- `share` +"
   ]
  },
  {
   "cell_type": "code",
   "execution_count": 8,
   "id": "8b0b2bda",
   "metadata": {
    "ExecuteTime": {
     "end_time": "2022-10-01T13:03:56.543819Z",
     "start_time": "2022-10-01T13:03:56.528615Z"
    }
   },
   "outputs": [],
   "source": [
    "q1_var = [\n",
    "    'reports',\n",
    "    'dependents',\n",
    "    'active',\n",
    "    'share',\n",
    "]"
   ]
  },
  {
   "cell_type": "code",
   "execution_count": 9,
   "id": "33dd5aad",
   "metadata": {
    "ExecuteTime": {
     "end_time": "2022-10-01T13:03:56.558961Z",
     "start_time": "2022-10-01T13:03:56.543819Z"
    }
   },
   "outputs": [
    {
     "name": "stdout",
     "output_type": "stream",
     "text": [
      "reports 0.28\n",
      "dependents 0.47\n",
      "active 0.6\n",
      "share 0.99\n"
     ]
    }
   ],
   "source": [
    "for i in q1_var:\n",
    "    print(i, roc_auc_score(y_train, df_train[i]).round(2))"
   ]
  },
  {
   "cell_type": "markdown",
   "id": "720647a5",
   "metadata": {},
   "source": [
    "## Training the model\n",
    "\n",
    "From now on, use these columns only:\n",
    "\n",
    "```\n",
    "[\"reports\", \"age\", \"income\", \"share\", \"expenditure\", \"dependents\", \"months\", \"majorcards\", \"active\", \"owner\", \"selfemp\"]\n",
    "```\n",
    "\n",
    "Apply one-hot-encoding using `DictVectorizer` and train the logistic regression with these parameters:\n",
    "\n",
    "```\n",
    "LogisticRegression(solver='liblinear', C=1.0, max_iter=1000)\n",
    "```"
   ]
  },
  {
   "cell_type": "code",
   "execution_count": 10,
   "id": "5213bbfe",
   "metadata": {
    "ExecuteTime": {
     "end_time": "2022-10-01T13:03:56.574960Z",
     "start_time": "2022-10-01T13:03:56.561931Z"
    }
   },
   "outputs": [],
   "source": [
    "columns_selected = [\"reports\",\n",
    "                   \"age\",\n",
    "                   \"income\",\n",
    "                   \"share\",\n",
    "                   \"expenditure\",\n",
    "                   \"dependents\",\n",
    "                   \"months\",\n",
    "                   \"majorcards\",\n",
    "                   \"active\",\n",
    "                   \"owner\",\n",
    "                   \"selfemp\"]"
   ]
  },
  {
   "cell_type": "code",
   "execution_count": 11,
   "id": "594749b1",
   "metadata": {
    "ExecuteTime": {
     "end_time": "2022-10-01T13:03:56.611962Z",
     "start_time": "2022-10-01T13:03:56.576928Z"
    }
   },
   "outputs": [],
   "source": [
    "dv = DictVectorizer(sparse=False)\n",
    "\n",
    "train_dict = df_train[columns_selected].to_dict(orient='records')\n",
    "X_train = dv.fit_transform(train_dict)\n",
    "\n",
    "val_dict = df_val[columns_selected].to_dict(orient='records')\n",
    "X_val = dv.transform(val_dict)"
   ]
  },
  {
   "cell_type": "code",
   "execution_count": 12,
   "id": "a0228478",
   "metadata": {
    "ExecuteTime": {
     "end_time": "2022-10-01T13:03:56.627669Z",
     "start_time": "2022-10-01T13:03:56.612929Z"
    }
   },
   "outputs": [],
   "source": [
    "model = LogisticRegression(solver=\"liblinear\",\n",
    "                           C=1.0,\n",
    "                           max_iter=1000,\n",
    "#                            random_state=1,\n",
    "                          ).fit(X_train, y_train)"
   ]
  },
  {
   "cell_type": "code",
   "execution_count": 13,
   "id": "c367edb8",
   "metadata": {
    "ExecuteTime": {
     "end_time": "2022-10-01T13:03:56.643633Z",
     "start_time": "2022-10-01T13:03:56.628633Z"
    }
   },
   "outputs": [],
   "source": [
    "y_pred = model.predict_proba(X_val)[:, 1]"
   ]
  },
  {
   "cell_type": "markdown",
   "id": "63a4b4ab",
   "metadata": {},
   "source": [
    "## Question 2\n",
    "\n",
    "What's the AUC of this model on the validation dataset? (round to 3 digits)\n",
    "\n",
    "- 0.615\n",
    "- 0.515\n",
    "- 0.715\n",
    "- 0.995 +"
   ]
  },
  {
   "cell_type": "code",
   "execution_count": 14,
   "id": "c72cff4e",
   "metadata": {
    "ExecuteTime": {
     "end_time": "2022-10-01T13:03:56.658666Z",
     "start_time": "2022-10-01T13:03:56.645670Z"
    }
   },
   "outputs": [
    {
     "data": {
      "text/plain": [
       "0.995171242063847"
      ]
     },
     "execution_count": 14,
     "metadata": {},
     "output_type": "execute_result"
    }
   ],
   "source": [
    "fpr, tpr, thresholds = roc_curve(y_val, y_pred)\n",
    "auc(fpr, tpr)"
   ]
  },
  {
   "cell_type": "markdown",
   "id": "876f3dea",
   "metadata": {},
   "source": [
    "## Question 3\n",
    "\n",
    "Now let's compute precision and recall for our model.\n",
    "\n",
    "* Evaluate the model on all thresholds from 0.0 to 1.0 with step 0.01\n",
    "* For each threshold, compute precision and recall\n",
    "* Plot them\n",
    "\n",
    "\n",
    "At which threshold precision and recall curves intersect?\n",
    "\n",
    "* 0.1\n",
    "* 0.3 +\n",
    "* 0.6\n",
    "* 0.8"
   ]
  },
  {
   "cell_type": "code",
   "execution_count": 15,
   "id": "f40b1036",
   "metadata": {
    "ExecuteTime": {
     "end_time": "2022-10-01T13:03:56.811704Z",
     "start_time": "2022-10-01T13:03:56.660655Z"
    }
   },
   "outputs": [],
   "source": [
    "# the same in scklearn\n",
    "scores = []\n",
    "\n",
    "thresholds = np.linspace(0, 1, 101)\n",
    "\n",
    "for t in thresholds:\n",
    "    r = recall_score(y_val, y_pred >= t)\n",
    "    p = precision_score(y_val, y_pred >= t)\n",
    "    \n",
    "    scores.append((t, p, r))"
   ]
  },
  {
   "cell_type": "code",
   "execution_count": 16,
   "id": "b43f4b36",
   "metadata": {
    "ExecuteTime": {
     "end_time": "2022-10-01T13:03:56.821871Z",
     "start_time": "2022-10-01T13:03:56.812561Z"
    }
   },
   "outputs": [],
   "source": [
    "scores = []\n",
    "\n",
    "thresholds = np.linspace(0, 1, 101)\n",
    "\n",
    "for t in thresholds:\n",
    "    actual_positive = (y_val == 1)\n",
    "    actual_negative = (y_val == 0)\n",
    "    \n",
    "    predict_positive = (y_pred >= t)\n",
    "    predict_negative = (y_pred < t)\n",
    "\n",
    "    tp = (predict_positive & actual_positive).sum()\n",
    "    tn = (predict_negative & actual_negative).sum()\n",
    "\n",
    "    fp = (predict_positive & actual_negative).sum()\n",
    "    fn = (predict_negative & actual_positive).sum()\n",
    "    \n",
    "    p = tp / (tp + fp)\n",
    "    r = tp / (tp + fn)\n",
    "    \n",
    "    scores.append((t, p, r))"
   ]
  },
  {
   "cell_type": "code",
   "execution_count": 17,
   "id": "fbc59d59",
   "metadata": {
    "ExecuteTime": {
     "end_time": "2022-10-01T13:03:56.836828Z",
     "start_time": "2022-10-01T13:03:56.821871Z"
    }
   },
   "outputs": [],
   "source": [
    "columns = ['threshold', 'precision', 'recall']\n",
    "df_scores = pd.DataFrame(scores, columns=columns)"
   ]
  },
  {
   "cell_type": "code",
   "execution_count": 18,
   "id": "e211516d",
   "metadata": {
    "ExecuteTime": {
     "end_time": "2022-10-01T13:03:57.042235Z",
     "start_time": "2022-10-01T13:03:56.836828Z"
    }
   },
   "outputs": [
    {
     "data": {
      "image/png": "[encoded data removed]",
      "text/plain": [
       "<Figure size 640x480 with 1 Axes>"
      ]
     },
     "metadata": {},
     "output_type": "display_data"
    }
   ],
   "source": [
    "plt.plot(df_scores.threshold, df_scores['precision'], label='precision')\n",
    "plt.plot(df_scores.threshold, df_scores['recall'], label='recall')\n",
    "plt.xlabel('threshold')\n",
    "plt.ylabel('score')\n",
    "plt.legend();"
   ]
  },
  {
   "cell_type": "markdown",
   "id": "65539b9a",
   "metadata": {},
   "source": [
    "## Question 4\n",
    "\n",
    "Precision and recall are conflicting - when one grows, the other goes down. That's why they are often combined into the F1 score - a metrics that takes into account both\n",
    "\n",
    "This is the formula for computing F1:\n",
    "\n",
    "F1 = 2 * P * R / (P + R)\n",
    "\n",
    "Where P is precision and R is recall.\n",
    "\n",
    "Let's compute F1 for all thresholds from 0.0 to 1.0 with increment 0.01\n",
    "\n",
    "At which threshold F1 is maximal?\n",
    "\n",
    "- 0.1\n",
    "- 0.4 +\n",
    "- 0.6\n",
    "- 0.7"
   ]
  },
  {
   "cell_type": "code",
   "execution_count": 19,
   "id": "9d081407",
   "metadata": {
    "ExecuteTime": {
     "end_time": "2022-10-01T13:03:57.055157Z",
     "start_time": "2022-10-01T13:03:57.044205Z"
    }
   },
   "outputs": [],
   "source": [
    "def f1_dataframe(y_val, y_pred):\n",
    "    scores = []\n",
    "\n",
    "    thresholds = np.linspace(0, 1, 101)\n",
    "\n",
    "    for t in thresholds:\n",
    "        actual_positive = (y_val == 1)\n",
    "        actual_negative = (y_val == 0)\n",
    "\n",
    "        predict_positive = (y_pred >= t)\n",
    "        predict_negative = (y_pred < t)\n",
    "\n",
    "        tp = (predict_positive & actual_positive).sum()\n",
    "        tn = (predict_negative & actual_negative).sum()\n",
    "\n",
    "        fp = (predict_positive & actual_negative).sum()\n",
    "        fn = (predict_negative & actual_positive).sum()\n",
    "        \n",
    "        p = tp / (tp + fp)\n",
    "        r = tp / (tp + fn)\n",
    "        \n",
    "        f1 = 2 * p * r / (p + r)\n",
    "        scores.append((t, f1))\n",
    "\n",
    "    columns = ['threshold', 'f1']\n",
    "    df_scores = pd.DataFrame(scores, columns=columns)\n",
    "    \n",
    "    return df_scores.sort_values('f1', ascending=False).head(10)"
   ]
  },
  {
   "cell_type": "code",
   "execution_count": 20,
   "id": "7a92a74b",
   "metadata": {
    "ExecuteTime": {
     "end_time": "2022-10-01T13:03:57.069890Z",
     "start_time": "2022-10-01T13:03:57.055157Z"
    },
    "scrolled": true
   },
   "outputs": [
    {
     "data": {
      "text/html": [
       "<div>\n",
       "<style scoped>\n",
       "    .dataframe tbody tr th:only-of-type {\n",
       "        vertical-align: middle;\n",
       "    }\n",
       "\n",
       "    .dataframe tbody tr th {\n",
       "        vertical-align: top;\n",
       "    }\n",
       "\n",
       "    .dataframe thead th {\n",
       "        text-align: right;\n",
       "    }\n",
       "</style>\n",
       "<table border=\"1\" class=\"dataframe\">\n",
       "  <thead>\n",
       "    <tr style=\"text-align: right;\">\n",
       "      <th></th>\n",
       "      <th>threshold</th>\n",
       "      <th>f1</th>\n",
       "    </tr>\n",
       "  </thead>\n",
       "  <tbody>\n",
       "    <tr>\n",
       "      <th>39</th>\n",
       "      <td>0.39</td>\n",
       "      <td>0.983213</td>\n",
       "    </tr>\n",
       "    <tr>\n",
       "      <th>38</th>\n",
       "      <td>0.38</td>\n",
       "      <td>0.983213</td>\n",
       "    </tr>\n",
       "    <tr>\n",
       "      <th>37</th>\n",
       "      <td>0.37</td>\n",
       "      <td>0.983213</td>\n",
       "    </tr>\n",
       "    <tr>\n",
       "      <th>36</th>\n",
       "      <td>0.36</td>\n",
       "      <td>0.983213</td>\n",
       "    </tr>\n",
       "    <tr>\n",
       "      <th>35</th>\n",
       "      <td>0.35</td>\n",
       "      <td>0.983213</td>\n",
       "    </tr>\n",
       "    <tr>\n",
       "      <th>41</th>\n",
       "      <td>0.41</td>\n",
       "      <td>0.983213</td>\n",
       "    </tr>\n",
       "    <tr>\n",
       "      <th>40</th>\n",
       "      <td>0.40</td>\n",
       "      <td>0.983213</td>\n",
       "    </tr>\n",
       "    <tr>\n",
       "      <th>88</th>\n",
       "      <td>0.88</td>\n",
       "      <td>0.983133</td>\n",
       "    </tr>\n",
       "    <tr>\n",
       "      <th>85</th>\n",
       "      <td>0.85</td>\n",
       "      <td>0.983133</td>\n",
       "    </tr>\n",
       "    <tr>\n",
       "      <th>86</th>\n",
       "      <td>0.86</td>\n",
       "      <td>0.983133</td>\n",
       "    </tr>\n",
       "  </tbody>\n",
       "</table>\n",
       "</div>"
      ],
      "text/plain": [
       "    threshold        f1\n",
       "39       0.39  0.983213\n",
       "38       0.38  0.983213\n",
       "37       0.37  0.983213\n",
       "36       0.36  0.983213\n",
       "35       0.35  0.983213\n",
       "41       0.41  0.983213\n",
       "40       0.40  0.983213\n",
       "88       0.88  0.983133\n",
       "85       0.85  0.983133\n",
       "86       0.86  0.983133"
      ]
     },
     "execution_count": 20,
     "metadata": {},
     "output_type": "execute_result"
    }
   ],
   "source": [
    "f1_dataframe(y_val, y_pred)"
   ]
  },
  {
   "cell_type": "markdown",
   "id": "02e79020",
   "metadata": {},
   "source": [
    "## Question 5\n",
    "\n",
    "Use the `KFold` class from Scikit-Learn to evaluate our model on 5 different folds:\n",
    "\n",
    "```\n",
    "KFold(n_splits=5, shuffle=True, random_state=1)\n",
    "```\n",
    "\n",
    "* Iterate over different folds of `df_full_train`\n",
    "* Split the data into train and validation\n",
    "* Train the model on train with these parameters: `LogisticRegression(solver='liblinear', C=1.0, max_iter=1000)`\n",
    "* Use AUC to evaluate the model on validation\n",
    "\n",
    "\n",
    "How large is standard devidation of the AUC scores across different folds?\n",
    "\n",
    "- 0.003 +\n",
    "- 0.014\n",
    "- 0.09\n",
    "- 0.24"
   ]
  },
  {
   "cell_type": "code",
   "execution_count": 21,
   "id": "b4312681",
   "metadata": {
    "ExecuteTime": {
     "end_time": "2022-10-01T13:03:57.085393Z",
     "start_time": "2022-10-01T13:03:57.069890Z"
    }
   },
   "outputs": [],
   "source": [
    "def train(df, y_train, C=1.0):\n",
    "    dicts = df[columns_selected].to_dict(orient='records')\n",
    "\n",
    "    dv = DictVectorizer(sparse=False)\n",
    "    X_train = dv.fit_transform(dicts)\n",
    "\n",
    "    model = LogisticRegression(C=C, max_iter=1000)\n",
    "    model.fit(X_train, y_train)\n",
    "    \n",
    "    return dv, model"
   ]
  },
  {
   "cell_type": "code",
   "execution_count": 22,
   "id": "ea05d093",
   "metadata": {
    "ExecuteTime": {
     "end_time": "2022-10-01T13:03:57.103928Z",
     "start_time": "2022-10-01T13:03:57.086357Z"
    }
   },
   "outputs": [],
   "source": [
    "def predict(df, dv, model):\n",
    "    dicts = df[columns_selected].to_dict(orient='records')\n",
    "\n",
    "    X = dv.transform(dicts)\n",
    "    y_pred = model.predict_proba(X)[:, 1]\n",
    "\n",
    "    return y_pred"
   ]
  },
  {
   "cell_type": "code",
   "execution_count": 23,
   "id": "ce936aca",
   "metadata": {
    "ExecuteTime": {
     "end_time": "2022-10-01T13:03:57.525085Z",
     "start_time": "2022-10-01T13:03:57.103928Z"
    }
   },
   "outputs": [
    {
     "data": {
      "application/vnd.jupyter.widget-view+json": {
       "model_id": "95db9406df90415b9d23d5ca8ea474c3",
       "version_major": 2,
       "version_minor": 0
      },
      "text/plain": [
       "0it [00:00, ?it/s]"
      ]
     },
     "metadata": {},
     "output_type": "display_data"
    }
   ],
   "source": [
    "kfold = KFold(n_splits=5, shuffle=True, random_state=1)\n",
    "\n",
    "scores = []\n",
    "\n",
    "for train_idx, val_idx in tqdm(kfold.split(df_train_full)):\n",
    "    df_train = df_train_full.iloc[train_idx]\n",
    "    df_val = df_train_full.iloc[val_idx]\n",
    "\n",
    "    y_train = df_train.card.values\n",
    "    y_val = df_val.card.values\n",
    "\n",
    "    dv, model = train(df_train, y_train)\n",
    "    y_pred = predict(df_val, dv, model)\n",
    "\n",
    "    auc = roc_auc_score(y_val, y_pred)\n",
    "    scores.append(auc)"
   ]
  },
  {
   "cell_type": "code",
   "execution_count": 24,
   "id": "23e804aa",
   "metadata": {
    "ExecuteTime": {
     "end_time": "2022-10-01T13:03:57.537060Z",
     "start_time": "2022-10-01T13:03:57.527087Z"
    }
   },
   "outputs": [
    {
     "data": {
      "text/plain": [
       "0.003"
      ]
     },
     "execution_count": 24,
     "metadata": {},
     "output_type": "execute_result"
    }
   ],
   "source": [
    "np.std(scores).round(3)"
   ]
  },
  {
   "cell_type": "markdown",
   "id": "fc1fd4f2",
   "metadata": {},
   "source": [
    "## Question 6\n",
    "\n",
    "Now let's use 5-Fold cross-validation to find the best parameter C\n",
    "\n",
    "* Iterate over the following C values: `[0.01, 0.1, 1, 10]`\n",
    "* Initialize `KFold` with the same parameters as previously\n",
    "* Use these parametes for the model: `LogisticRegression(solver='liblinear', C=C, max_iter=1000)`\n",
    "* Compute the mean score as well as the std (round the mean and std to 3 decimal digits)\n",
    "\n",
    "\n",
    "Which C leads to the best mean score?\n",
    "\n",
    "- 0.01\n",
    "- 0.1 +\n",
    "- 1\n",
    "- 10\n",
    "\n",
    "If you have ties, select the score with the lowest std. If you still have ties, select the smallest C"
   ]
  },
  {
   "cell_type": "code",
   "execution_count": 25,
   "id": "9ae2c23f",
   "metadata": {
    "ExecuteTime": {
     "end_time": "2022-10-01T13:03:58.831478Z",
     "start_time": "2022-10-01T13:03:57.537060Z"
    }
   },
   "outputs": [
    {
     "data": {
      "application/vnd.jupyter.widget-view+json": {
       "model_id": "71695b4590c0487cac1c40e8c297ccf7",
       "version_major": 2,
       "version_minor": 0
      },
      "text/plain": [
       "  0%|          | 0/4 [00:00<?, ?it/s]"
      ]
     },
     "metadata": {},
     "output_type": "display_data"
    },
    {
     "name": "stdout",
     "output_type": "stream",
     "text": [
      "C=0.01 0.995 +- 0.004\n",
      "C=0.1 0.997 +- 0.003\n",
      "C=1 0.996 +- 0.003\n",
      "C=10 0.997 +- 0.003\n"
     ]
    }
   ],
   "source": [
    "n_splits = 5\n",
    "\n",
    "for C in tqdm([0.01, 0.1, 1, 10]):\n",
    "    kfold = KFold(n_splits=n_splits, shuffle=True, random_state=1)\n",
    "\n",
    "    scores = []\n",
    "\n",
    "    for train_idx, val_idx in kfold.split(df_train_full):\n",
    "        df_train = df_train_full.iloc[train_idx]\n",
    "        df_val = df_train_full.iloc[val_idx]\n",
    "\n",
    "        y_train = df_train.card.values\n",
    "        y_val = df_val.card.values\n",
    "\n",
    "        dv, model = train(df_train, y_train, C=C)\n",
    "        y_pred = predict(df_val, dv, model)\n",
    "\n",
    "        auc = roc_auc_score(y_val, y_pred)\n",
    "        scores.append(auc)\n",
    "\n",
    "    print('C=%s %.3f +- %.3f' % (C, np.mean(scores), np.std(scores)))"
   ]
  },
  {
   "cell_type": "markdown",
   "id": "e7453111",
   "metadata": {},
   "source": [
    "## Submit the results\n",
    "\n",
    "* Submit your results here: https://forms.gle/8TfKNRd5Jq7sGK5M9\n",
    "* You can submit your solution multiple times. In this case, only the last submission will be used \n",
    "* If your answer doesn't match options exactly, select the closest one"
   ]
  },
  {
   "cell_type": "markdown",
   "id": "1efde33b",
   "metadata": {},
   "source": [
    "## Deadline\n",
    "\n",
    "The deadline for submitting is October 3 (Monday), 23:00 CEST.\n",
    "\n",
    "After that, the form will be closed."
   ]
  }
 ],
 "metadata": {
  "kernelspec": {
   "display_name": "Python 3 (ipykernel)",
   "language": "python",
   "name": "python3"
  },
  "language_info": {
   "codemirror_mode": {
    "name": "ipython",
    "version": 3
   },
   "file_extension": ".py",
   "mimetype": "text/x-python",
   "name": "python",
   "nbconvert_exporter": "python",
   "pygments_lexer": "ipython3",
   "version": "3.9.12"
  },
  "toc": {
   "base_numbering": 1,
   "nav_menu": {},
   "number_sections": false,
   "sideBar": true,
   "skip_h1_title": false,
   "title_cell": "Table of Contents",
   "title_sidebar": "Contents",
   "toc_cell": false,
   "toc_position": {
    "height": "calc(100% - 180px)",
    "left": "10px",
    "top": "150px",
    "width": "324.069px"
   },
   "toc_section_display": true,
   "toc_window_display": true
  },
  "varInspector": {
   "cols": {
    "lenName": 16,
    "lenType": 16,
    "lenVar": 40
   },
   "kernels_config": {
    "python": {
     "delete_cmd_postfix": "",
     "delete_cmd_prefix": "del ",
     "library": "var_list.py",
     "varRefreshCmd": "print(var_dic_list())"
    },
    "r": {
     "delete_cmd_postfix": ") ",
     "delete_cmd_prefix": "rm(",
     "library": "var_list.r",
     "varRefreshCmd": "cat(var_dic_list()) "
    }
   },
   "oldHeight": 524.833,
   "position": {
    "height": "40px",
    "left": "1350.44px",
    "right": "20px",
    "top": "120px",
    "width": "250px"
   },
   "types_to_exclude": [
    "module",
    "function",
    "builtin_function_or_method",
    "instance",
    "_Feature"
   ],
   "varInspector_section_display": "none",
   "window_display": true
  },
  "vscode": {
   "interpreter": {
    "hash": "04e82b639611021914c85ab82a37e06b341e174588646d71f28be507882ddb20"
   }
  }
 },
 "nbformat": 4,
 "nbformat_minor": 5
}
